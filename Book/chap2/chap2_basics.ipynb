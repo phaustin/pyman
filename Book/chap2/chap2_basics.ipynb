{
 "cells": [
  {
   "cell_type": "markdown",
   "metadata": {
    "toc": true
   },
   "source": [
    "<h1>Table of Contents<span class=\"tocSkip\"></span></h1>\n",
    "<div class=\"toc\"><ul class=\"toc-item\"><li><span><a href=\"#First-Steps\" data-toc-modified-id=\"First-Steps-1\"><span class=\"toc-item-num\">1&nbsp;&nbsp;</span>First Steps</a></span><ul class=\"toc-item\"><li><span><a href=\"#Installing-Python-on-your-computer\" data-toc-modified-id=\"Installing-Python-on-your-computer-1.1\"><span class=\"toc-item-num\">1.1&nbsp;&nbsp;</span>Installing Python on your computer</a></span><ul class=\"toc-item\"><li><span><a href=\"#Launching-IPython\" data-toc-modified-id=\"Launching-IPython-1.1.1\"><span class=\"toc-item-num\">1.1.1&nbsp;&nbsp;</span>Launching IPython</a></span></li><li><span><a href=\"#Testing-your-installation-of-Python\" data-toc-modified-id=\"Testing-your-installation-of-Python-1.1.2\"><span class=\"toc-item-num\">1.1.2&nbsp;&nbsp;</span>Testing your installation of Python</a></span></li></ul></li><li><span><a href=\"#IPython-Basics\" data-toc-modified-id=\"IPython-Basics-1.2\"><span class=\"toc-item-num\">1.2&nbsp;&nbsp;</span>IPython Basics</a></span><ul class=\"toc-item\"><li><span><a href=\"#Magic-Functions\" data-toc-modified-id=\"Magic-Functions-1.2.1\"><span class=\"toc-item-num\">1.2.1&nbsp;&nbsp;</span>Magic Functions</a></span></li><li><span><a href=\"#Navigation-Commands\" data-toc-modified-id=\"Navigation-Commands-1.2.2\"><span class=\"toc-item-num\">1.2.2&nbsp;&nbsp;</span>Navigation Commands</a></span></li><li><span><a href=\"#More-Magic-Commands\" data-toc-modified-id=\"More-Magic-Commands-1.2.3\"><span class=\"toc-item-num\">1.2.3&nbsp;&nbsp;</span>More Magic Commands</a></span></li><li><span><a href=\"#System-shell-commands\" data-toc-modified-id=\"System-shell-commands-1.2.4\"><span class=\"toc-item-num\">1.2.4&nbsp;&nbsp;</span>System shell commands</a></span></li><li><span><a href=\"#Tab-completion\" data-toc-modified-id=\"Tab-completion-1.2.5\"><span class=\"toc-item-num\">1.2.5&nbsp;&nbsp;</span>Tab completion</a></span></li><li><span><a href=\"#Recap-of-commands\" data-toc-modified-id=\"Recap-of-commands-1.2.6\"><span class=\"toc-item-num\">1.2.6&nbsp;&nbsp;</span>Recap of commands</a></span></li></ul></li><li><span><a href=\"#Interactive-Python-as-a-calculator\" data-toc-modified-id=\"Interactive-Python-as-a-calculator-1.3\"><span class=\"toc-item-num\">1.3&nbsp;&nbsp;</span>Interactive Python as a calculator</a></span><ul class=\"toc-item\"><li><span><a href=\"#Binary-arithmetic-operations-in-Python\" data-toc-modified-id=\"Binary-arithmetic-operations-in-Python-1.3.1\"><span class=\"toc-item-num\">1.3.1&nbsp;&nbsp;</span>Binary arithmetic operations in Python</a></span></li><li><span><a href=\"#Types-of-numbers\" data-toc-modified-id=\"Types-of-numbers-1.3.2\"><span class=\"toc-item-num\">1.3.2&nbsp;&nbsp;</span>Types of numbers</a></span></li></ul></li><li><span><a href=\"#Python-Modules\" data-toc-modified-id=\"Python-Modules-1.4\"><span class=\"toc-item-num\">1.4&nbsp;&nbsp;</span>Python Modules</a></span></li><li><span><a href=\"#Python-functions:-a-first-look\" data-toc-modified-id=\"Python-functions:-a-first-look-1.5\"><span class=\"toc-item-num\">1.5&nbsp;&nbsp;</span>Python functions: a first look</a></span><ul class=\"toc-item\"><li><span><a href=\"#Some-NumPy-functions\" data-toc-modified-id=\"Some-NumPy-functions-1.5.1\"><span class=\"toc-item-num\">1.5.1&nbsp;&nbsp;</span>Some NumPy functions</a></span></li><li><span><a href=\"#Keyword-arguments\" data-toc-modified-id=\"Keyword-arguments-1.5.2\"><span class=\"toc-item-num\">1.5.2&nbsp;&nbsp;</span>Keyword arguments</a></span></li></ul></li><li><span><a href=\"#Variables\" data-toc-modified-id=\"Variables-1.6\"><span class=\"toc-item-num\">1.6&nbsp;&nbsp;</span>Variables</a></span><ul class=\"toc-item\"><li><span><a href=\"#Names-and-the-assignment-operator\" data-toc-modified-id=\"Names-and-the-assignment-operator-1.6.1\"><span class=\"toc-item-num\">1.6.1&nbsp;&nbsp;</span>Names and the assignment operator</a></span></li><li><span><a href=\"#Legal-and-recommended-variable-names\" data-toc-modified-id=\"Legal-and-recommended-variable-names-1.6.2\"><span class=\"toc-item-num\">1.6.2&nbsp;&nbsp;</span>Legal and recommended variable names</a></span></li><li><span><a href=\"#Reserved-words-in-Python\" data-toc-modified-id=\"Reserved-words-in-Python-1.6.3\"><span class=\"toc-item-num\">1.6.3&nbsp;&nbsp;</span>Reserved words in Python</a></span></li></ul></li><li><span><a href=\"#Script-files-and-programs\" data-toc-modified-id=\"Script-files-and-programs-1.7\"><span class=\"toc-item-num\">1.7&nbsp;&nbsp;</span>Script files and programs</a></span><ul class=\"toc-item\"><li><span><a href=\"#Scripting-Example-1\" data-toc-modified-id=\"Scripting-Example-1-1.7.1\"><span class=\"toc-item-num\">1.7.1&nbsp;&nbsp;</span>Scripting Example 1</a></span></li><li><span><a href=\"#Scripting-Example-2\" data-toc-modified-id=\"Scripting-Example-2-1.7.2\"><span class=\"toc-item-num\">1.7.2&nbsp;&nbsp;</span>Scripting Example 2</a></span></li></ul></li><li><span><a href=\"#Importing-Modules\" data-toc-modified-id=\"Importing-Modules-1.8\"><span class=\"toc-item-num\">1.8&nbsp;&nbsp;</span>Importing Modules</a></span></li><li><span><a href=\"#Getting-help:-documentation-in-IPython-shell\" data-toc-modified-id=\"Getting-help:-documentation-in-IPython-shell-1.9\"><span class=\"toc-item-num\">1.9&nbsp;&nbsp;</span>Getting help: documentation in IPython shell</a></span></li><li><span><a href=\"#Programming-is-a-detail-oriented-activity\" data-toc-modified-id=\"Programming-is-a-detail-oriented-activity-1.10\"><span class=\"toc-item-num\">1.10&nbsp;&nbsp;</span>Programming is a detail-oriented activity</a></span></li><li><span><a href=\"#Exercises\" data-toc-modified-id=\"Exercises-1.11\"><span class=\"toc-item-num\">1.11&nbsp;&nbsp;</span>Exercises</a></span></li></ul></li></ul></div>"
   ]
  },
  {
   "cell_type": "markdown",
   "metadata": {},
   "source": [
    "First Steps\n",
    "===========\n",
    "\n",
    "Installing Python on your computer\n",
    "----------------------------------\n",
    "\n",
    "If you haven't already installed Python on your computer, see `apdx1` ,\n",
    "which includes instructions for installing Python on Macs running under\n",
    "MacOSX and on PCs running under Windows.\n",
    "\n",
    "single: miniconda\n",
    "\n",
    "### Launching IPython\n",
    "\n",
    "Once you have installed Python, open a shell and at the prompt type:\n",
    "\n",
    "```\n",
    "$ cd ~\n",
    "$ mkdir testfold\n",
    "$ cd testfold\n",
    "```\n",
    "\n",
    "which will make a new directory called testfold and change into it.\n",
    "\n",
    "By typing short commands at the prompt, IPython can be used to perform\n",
    "various system tasks, such as running programs and creating and moving\n",
    "files around on your computer. This is a different kind of computer\n",
    "interface than the icon-based interface (or \"graphical user interface\"\n",
    "GUI) that you usually use to communicate with your computer. While it\n",
    "may seem more cumbersome for some tasks, it can be more powerful for\n",
    "other tasks, particularly those associated with programming.\n",
    "\n",
    "Before getting started, we point out that like most modern computer\n",
    "languages, Python is *case sensitive*. That is, Python distinguishes\n",
    "between upper and lower case letters. Thus, two words spelled the same\n",
    "but having different letters capitalized are treated as different names\n",
    "in Python. Keep that in mind as we introduce different commands.\n",
    "\n",
    "### Testing your installation of Python\n",
    "\n",
    "Running the Python program below tests your installation of Python to\n",
    "verify that the installation was successful. In particular, it tests\n",
    "that the NumPy, SciPy, and MatPlotLib libraries that are needed for this\n",
    "manual are properly installed. Now that you are in directory testfold,\n",
    "start a python session with:\n",
    "\n",
    "```\n",
    "$ jupyter  qtconsole &\n",
    "```\n",
    "\n",
    "The '&' at the end 'backgrounds' the session and gives you back the bash\n",
    "prompt so you can type further commands.\n",
    "\n",
    "Launch atom from the command line with the empty file name\n",
    "test\\_python.py:\n",
    "\n",
    "```\n",
    "$ atom test_python.py\n",
    "```\n",
    "Copy these lines into test\\_python.py You should input your first and\n",
    "last names inside the single quotes on lines 15 and 16, respectively.\n",
    "Save this file in atom."
   ]
  },
  {
   "cell_type": "code",
   "execution_count": 1,
   "metadata": {},
   "outputs": [
    {
     "data": {
      "image/png": "[encoded data removed]",
      "text/plain": [
       "<Figure size 432x288 with 1 Axes>"
      ]
     },
     "metadata": {
      "needs_background": "light"
     },
     "output_type": "display_data"
    }
   ],
   "source": [
    "# This code tests that your Python installation worked.\n",
    "# It generates a png image file that you should e-mail \n",
    "# to the address shown on the plot\n",
    "import scipy \n",
    "import numpy \n",
    "import matplotlib \n",
    "import matplotlib.pyplot as plt \n",
    "import platform \n",
    "import socket\n",
    "\n",
    "# If you are a student, please fill in your first and last\n",
    "# names inside the quotes in the two lines below.  Do not\n",
    "# modify anything else in this file\n",
    "\n",
    "your_first_name = 'First' \n",
    "your_last_name = 'Last'\n",
    "\n",
    "# If you are an instructor, modify the next 3 lines.\n",
    "# You do not need to modify anything else in this file.\n",
    "\n",
    "classname = 'ATSC 301'\n",
    "term = 'Fall_2016'      # must contain no spaces\n",
    "email = 'paustin@eos.ubc.ca'\n",
    "\n",
    "plt.plot([0,1], 'r', [1,0], 'b')\n",
    "plt.text( 0.5, 0.8, '{0:s} {1:s}'\n",
    "        .format(your_first_name, your_last_name), \n",
    "        horizontalalignment='center',\n",
    "        size = 'x-large',\n",
    "        bbox=dict(facecolor='purple', alpha=0.4))\n",
    "plt.text( 0.5, 0.1,\n",
    "    '{1:s}\\nscipy {2:s}\\nnumpy {3:s}\\nmatplotlib {4:s}\\non {5:s}\\n{6:s}'\n",
    "        .format( \n",
    "        classname,\n",
    "        term,\n",
    "        scipy.__version__, \n",
    "        numpy.__version__, \n",
    "        matplotlib.__version__, \n",
    "        platform.platform(), \n",
    "        socket.gethostname() \n",
    "        ) ,\n",
    "    horizontalalignment='center'\n",
    "    )\n",
    "filename = your_last_name + '_' + your_first_name + '_' + term + '.png'\n",
    "plt.title('*** E-mail the saved version of this plot, ***\\n' +\n",
    "    '\"{0:s}\" to {1:s}'.format(filename, email), fontsize=12)\n",
    "plt.savefig(filename)\n",
    "plt.show()"
   ]
  },
  {
   "cell_type": "markdown",
   "metadata": {},
   "source": [
    "To run your saved file go to the IPython window and at the prompt type:\n",
    "\n",
    "```\n",
    "run test_python\n",
    "```\n",
    "\n",
    "which should produce a plot that looks something like this:\n",
    "\n",
    "![image](attachment:screenshots/inline_plot.png)\n",
    "\n",
    "To save this as a png file, type:\n",
    "\n",
    "```\n",
    "% matplotlib qt4\n",
    "```\n",
    "\n",
    "which switches from inline graphics to graphics that appear in a\n",
    "separate window. Type:\n",
    "\n",
    "```\n",
    "run test_python\n",
    "```\n",
    "\n",
    "again to get a windowed plot\n",
    "\n",
    "![image](attachment:screenshots/qt4_window.png)\n",
    "\n",
    "Clicking on the floppy disk icon should prompt you for a file name to\n",
    "save the figure into."
   ]
  },
  {
   "cell_type": "markdown",
   "metadata": {},
   "source": [
    "IPython Basics\n",
    "--------------\n",
    "\n",
    "### Magic Functions\n",
    "\n",
    "pair: IPython; magic functions\n",
    "\n",
    "IPython features a number of commands called \"magic\" commands that let\n",
    "you perform various useful tasks. There are two types of magic commands,\n",
    "line magic commands that begin with `%`---these are executed on a single\n",
    "line---and cell magic commands that begin with `%%`---these are executed\n",
    "on several lines. Here we will concern ourselves only with line magic\n",
    "commands.\n",
    "\n",
    "The first thing to know about magic commands is that you can toggle\n",
    "(turn on and off) the need to use the `%` prefix for line magic commands\n",
    "by typing `%automagic`. By default, the `Automagic` switch is set to\n",
    "`ON` so you don't need the `%` prefix. To set `Automagic` to `OFF`,\n",
    "simply type `%automagic` at the IPython prompt. Cell magic commands\n",
    "always need the `%%` prefix.\n",
    "\n",
    "In what follows below, we assume that the `Automagic` switch is set to\n",
    "`ON` so we omit the `%` sign.\n",
    "\n",
    "single: IPython; navigation commands\n",
    "\n",
    "### Navigation Commands\n",
    "\n",
    "IPython recognizes several common navigation commands that are used\n",
    "under the Unix/Linux operating systems. In the IPython shell, these few\n",
    "commands work on Macs, PCs, and Linux machines.\n",
    "\n",
    "At the IPython prompt, type `cd ~` (*i.e.* \"`cd`\" -- \"space\" -- \"tilde\"\n",
    ", where tilde is found near the upper left part of most keyboards). This\n",
    "will set your computer to its home (default) directory. Next type `pwd`\n",
    "(**p**rint **w**orking **d**irectory) and press RETURN. The console\n",
    "should return the name of the current directory of your computer. It\n",
    "might look like this on a Mac:\n",
    "\n",
    "``` ipython\n",
    "In [2]: pwd\n",
    "Out[2]: u'/Users/phil'\n",
    "```\n",
    "\n",
    "or this on a PC:\n",
    "\n",
    "``` ipython\n",
    "In [3]: pwd\n",
    "Out[3]: C:\\\\Users\\\\phil\n",
    "```\n",
    "\n",
    "The responses `Out[2]: u'/Users/phil'` for the Mac and\n",
    "`Out[3]: C:\\\\Users\\\\phil` for the PC mean the the current directory is\n",
    "`phil`, which is a subdirectory of `Users`. Taken together `/Users/phil`\n",
    "on a Mac or `C:\\\\Users\\\\phil` on a PC is known as the *path* of the\n",
    "current directory. The path is just the name of a directory and the\n",
    "sequence of subdirectories in which it resides up to the *root*\n",
    "directory.\n",
    "\n",
    "Typing `cd ..` (\"`cd`\" -- \"space\" -- two periods) moves the IPython\n",
    "shell up one directory in the directory tree, as illustrated by the set\n",
    "of commands below.\n",
    "\n",
    "``` ipython\n",
    "In [4]: cd ..\n",
    "/Users\n",
    "\n",
    "In [5]: pwd\n",
    "Out[5]: u'/Users'\n",
    "```\n",
    "\n",
    "The directory moved up one from `/Users/phil` to `/Users`. Now type `ls`\n",
    "(**l**i**s**t) and press `RETURN`. The console should list the names of\n",
    "the files and subdirectories in the current directory.\n",
    "\n",
    "``` ipython\n",
    "In [6]: ls\n",
    "Shared/    phil/\n",
    "```\n",
    "\n",
    "In this case, there are only two directories (indicated by the slash)\n",
    "and not files. Type `cd ~` again to return to your home directory and\n",
    "then type `pwd` to verify where you are in your directory tree.\n",
    "\\[Technically, `ls` isn't a magic command, but typing it without the `%`\n",
    "sign lists the contents of the current directory, irrespective of\n",
    "whether `Automagic` is `ON` or `OFF`.\\]\n",
    "\n",
    "Let's create a directory within your documents directory that you can\n",
    "use to store your Python programs. We will call it `PyProgs`. First,\n",
    "return to your home directory by typing `cd ~`. To create directory\n",
    "`PyProgs`, type `mkdir PyProgs` (**m**a**k**e **dir**ectory). Type `ls`\n",
    "to confirm that you have created `PyProgs` and then type `cd PyProgs` to\n",
    "switch to that directory.\n",
    "\n",
    "Now let's say you want to return to the previous subdirectory,\n",
    "`Documents` or `My Documents`, which should be one up in the directory\n",
    "tree if you have followed along. Type `cd ..` and then type `pwd`. You\n",
    "should find that you are back in the previous directory, `Documents` or\n",
    "`My Documents`. If you type `ls`, you should see the new directory\n",
    "`PyProgs` that you just created.\n",
    "\n",
    "### More Magic Commands\n",
    "\n",
    "single: IPython; magic commands\n",
    "\n",
    "The most important magic command is `%run` *filename* where *filename*\n",
    "is the name of a Python program you have created. We haven't done this\n",
    "yet but include it here just for reference. We will come back to this\n",
    "later.\n",
    "\n",
    "Some other useful magic commands include `%hist`, which lists the recent\n",
    "commands issued to the IPython terminal, and `%edit`, which opens a new\n",
    "empty file in the code editor window. Typing `%edit` *filename*, will\n",
    "open the file *filename* if it exists in the current directory, or it\n",
    "will create a new file by that name if it does not, and will open it as\n",
    "a blank file in the code editor window.\n",
    "\n",
    "There are a number of other magic commands. You can get a list of them\n",
    "by typing `lsmagic`."
   ]
  },
  {
   "cell_type": "code",
   "execution_count": 2,
   "metadata": {},
   "outputs": [
    {
     "data": {
      "application/json": {
       "cell": {
        "!": "OSMagics",
        "HTML": "Other",
        "SVG": "Other",
        "bash": "Other",
        "capture": "ExecutionMagics",
        "debug": "ExecutionMagics",
        "file": "Other",
        "html": "DisplayMagics",
        "javascript": "DisplayMagics",
        "js": "DisplayMagics",
        "latex": "DisplayMagics",
        "markdown": "DisplayMagics",
        "perl": "Other",
        "prun": "ExecutionMagics",
        "pypy": "Other",
        "python": "Other",
        "python2": "Other",
        "python3": "Other",
        "ruby": "Other",
        "script": "ScriptMagics",
        "sh": "Other",
        "svg": "DisplayMagics",
        "sx": "OSMagics",
        "system": "OSMagics",
        "time": "ExecutionMagics",
        "timeit": "ExecutionMagics",
        "writefile": "OSMagics"
       },
       "line": {
        "alias": "OSMagics",
        "alias_magic": "BasicMagics",
        "autoawait": "AsyncMagics",
        "autocall": "AutoMagics",
        "automagic": "AutoMagics",
        "autosave": "KernelMagics",
        "bookmark": "OSMagics",
        "cat": "Other",
        "cd": "OSMagics",
        "clear": "KernelMagics",
        "colors": "BasicMagics",
        "conda": "PackagingMagics",
        "config": "ConfigMagics",
        "connect_info": "KernelMagics",
        "cp": "Other",
        "debug": "ExecutionMagics",
        "dhist": "OSMagics",
        "dirs": "OSMagics",
        "doctest_mode": "BasicMagics",
        "ed": "Other",
        "edit": "KernelMagics",
        "env": "OSMagics",
        "gui": "BasicMagics",
        "hist": "Other",
        "history": "HistoryMagics",
        "killbgscripts": "ScriptMagics",
        "ldir": "Other",
        "less": "KernelMagics",
        "lf": "Other",
        "lk": "Other",
        "ll": "Other",
        "load": "CodeMagics",
        "load_ext": "ExtensionMagics",
        "loadpy": "CodeMagics",
        "logoff": "LoggingMagics",
        "logon": "LoggingMagics",
        "logstart": "LoggingMagics",
        "logstate": "LoggingMagics",
        "logstop": "LoggingMagics",
        "ls": "Other",
        "lsmagic": "BasicMagics",
        "lx": "Other",
        "macro": "ExecutionMagics",
        "magic": "BasicMagics",
        "man": "KernelMagics",
        "matplotlib": "PylabMagics",
        "mkdir": "Other",
        "more": "KernelMagics",
        "mv": "Other",
        "notebook": "BasicMagics",
        "page": "BasicMagics",
        "pastebin": "CodeMagics",
        "pdb": "ExecutionMagics",
        "pdef": "NamespaceMagics",
        "pdoc": "NamespaceMagics",
        "pfile": "NamespaceMagics",
        "pinfo": "NamespaceMagics",
        "pinfo2": "NamespaceMagics",
        "pip": "PackagingMagics",
        "popd": "OSMagics",
        "pprint": "BasicMagics",
        "precision": "BasicMagics",
        "prun": "ExecutionMagics",
        "psearch": "NamespaceMagics",
        "psource": "NamespaceMagics",
        "pushd": "OSMagics",
        "pwd": "OSMagics",
        "pycat": "OSMagics",
        "pylab": "PylabMagics",
        "qtconsole": "KernelMagics",
        "quickref": "BasicMagics",
        "recall": "HistoryMagics",
        "rehashx": "OSMagics",
        "reload_ext": "ExtensionMagics",
        "rep": "Other",
        "rerun": "HistoryMagics",
        "reset": "NamespaceMagics",
        "reset_selective": "NamespaceMagics",
        "rm": "Other",
        "rmdir": "Other",
        "run": "ExecutionMagics",
        "save": "CodeMagics",
        "sc": "OSMagics",
        "set_env": "OSMagics",
        "store": "StoreMagics",
        "sx": "OSMagics",
        "system": "OSMagics",
        "tb": "ExecutionMagics",
        "time": "ExecutionMagics",
        "timeit": "ExecutionMagics",
        "unalias": "OSMagics",
        "unload_ext": "ExtensionMagics",
        "who": "NamespaceMagics",
        "who_ls": "NamespaceMagics",
        "whos": "NamespaceMagics",
        "xdel": "NamespaceMagics",
        "xmode": "BasicMagics"
       }
      },
      "text/plain": [
       "Available line magics:\n",
       "%alias  %alias_magic  %autoawait  %autocall  %automagic  %autosave  %bookmark  %cat  %cd  %clear  %colors  %conda  %config  %connect_info  %cp  %debug  %dhist  %dirs  %doctest_mode  %ed  %edit  %env  %gui  %hist  %history  %killbgscripts  %ldir  %less  %lf  %lk  %ll  %load  %load_ext  %loadpy  %logoff  %logon  %logstart  %logstate  %logstop  %ls  %lsmagic  %lx  %macro  %magic  %man  %matplotlib  %mkdir  %more  %mv  %notebook  %page  %pastebin  %pdb  %pdef  %pdoc  %pfile  %pinfo  %pinfo2  %pip  %popd  %pprint  %precision  %prun  %psearch  %psource  %pushd  %pwd  %pycat  %pylab  %qtconsole  %quickref  %recall  %rehashx  %reload_ext  %rep  %rerun  %reset  %reset_selective  %rm  %rmdir  %run  %save  %sc  %set_env  %store  %sx  %system  %tb  %time  %timeit  %unalias  %unload_ext  %who  %who_ls  %whos  %xdel  %xmode\n",
       "\n",
       "Available cell magics:\n",
       "%%!  %%HTML  %%SVG  %%bash  %%capture  %%debug  %%file  %%html  %%javascript  %%js  %%latex  %%markdown  %%perl  %%prun  %%pypy  %%python  %%python2  %%python3  %%ruby  %%script  %%sh  %%svg  %%sx  %%system  %%time  %%timeit  %%writefile\n",
       "\n",
       "Automagic is ON, % prefix IS NOT needed for line magics."
      ]
     },
     "execution_count": 2,
     "metadata": {},
     "output_type": "execute_result"
    }
   ],
   "source": [
    "%lsmagic"
   ]
  },
  {
   "cell_type": "markdown",
   "metadata": {},
   "source": [
    "There are a lot of magic commands, most of which we don't need right\n",
    "now. We will introduce them in the text as needed.\n",
    "\n",
    "### System shell commands\n",
    "\n",
    "You can also run system shell commands from the IPython shell by typing\n",
    "`!` followed by a system shell command. For Macs running OSX and for\n",
    "Linux machines, this means that Unix (or equivalently Linux) commands\n",
    "can be issued from the IPython prompt. For PCs, this means that Windows\n",
    "(DOS) commands can be issued from the IPython prompt. For example,\n",
    "typing `!ls` (**l**i**s**t) and pressing RETURN lists all the files in\n",
    "the current directory on a Mac. Typing `!dir` on a PC does essentially\n",
    "the same thing (note that system shell commands in Windows are *not*\n",
    "case sensitive).\n",
    "\n",
    "### Tab completion\n",
    "\n",
    "IPython also incorporates a number of shortcuts that make using the\n",
    "shell more efficient. One of the most useful is **tab completion**.\n",
    "Let's assume you have been following along and that your are in the\n",
    "directory `Documents` or `My Documents`. To switch to the directory\n",
    "`PyProgs`, you could type `cd PyProgs`. Instead of doing that, type\n",
    "`cd PyP` and then press the `TAB` key. This will complete the command,\n",
    "provided there is no ambiguity in how to finish the command. In the\n",
    "present case, that would mean that there was no other subdirectory\n",
    "beginning with `PyP`. Tab completion works with any command you type\n",
    "into the IPython terminal. Try it out! It will make your life more\n",
    "wonderful.\n",
    "\n",
    "A related shortcut involves the $\\uparrow$ key. If you type a command,\n",
    "say `cd` and then to press the $\\uparrow$ key, IPython will complete the\n",
    "`cd` command with the last instance of that command. Thus, when you\n",
    "launch IPython, you can use this shortcut to take you to the directory\n",
    "you used when you last ran IPython.\n",
    "\n",
    "You can also simply press the $\\uparrow$ key, which will simply recall\n",
    "the most recent command. Repeated application of the $\\uparrow$ key\n",
    "scrolls though the most recent commands in reverse order. The\n",
    "$\\downarrow$ key can be used to scroll in the other direction.\n",
    "\n",
    "### Recap of commands\n",
    "\n",
    "Let's recap the (magic) commands introduced above:\n",
    "\n",
    "> `pwd`:  \n",
    "> (**p**rint **w**orking **d**irectory) Prints the path of the current\n",
    "> directory.\n",
    ">\n",
    "> `ls`:  \n",
    "> (**l**i**s**t) Lists the names of the files and directories located in\n",
    "> the current directory.\n",
    ">\n",
    "> `mkdir` *filename*:  \n",
    "> (**m**a**k**e **dir**ectory) Makes a new directory *filename*.\n",
    ">\n",
    "> `cd` *directoryname*:  \n",
    "> (**c**hange **d**irectory) Changes the current directory to\n",
    "> *directoryname*. Note: for this to work, *directoryname* must be a\n",
    "> subdirectory in the current directory. Typing `cd ~` changes to the\n",
    "> home directory of your computer. Typing `cd ..` moves the console one\n",
    "> directory up in the directory tree.\n",
    ">\n",
    "> `clear`:  \n",
    "> Clears the IPython screen of previous commands.\n",
    ">\n",
    "> `run` *filename*:  \n",
    "> Runs (executes) a Python script. Described later in the section\n",
    "> `chap2:ScriptExmp1`\n",
    ">\n",
    "> Tab completion:  \n",
    "> Provides convenient shortcuts, with or without the arrow keys, for\n",
    "> executing commands in the IPython shell."
   ]
  },
  {
   "cell_type": "markdown",
   "metadata": {},
   "source": [
    "Interactive Python as a calculator\n",
    "----------------------------------\n",
    "\n",
    "You can use the IPython shell to perform simple arithmatic calculations.\n",
    "For example, to find the product $3\\times 15$, you type `3*15` at the\n",
    "`In` prompt and press `RETURN`:"
   ]
  },
  {
   "cell_type": "code",
   "execution_count": 3,
   "metadata": {},
   "outputs": [
    {
     "data": {
      "text/plain": [
       "45"
      ]
     },
     "execution_count": 3,
     "metadata": {},
     "output_type": "execute_result"
    }
   ],
   "source": [
    "3*15"
   ]
  },
  {
   "cell_type": "markdown",
   "metadata": {},
   "source": [
    "Python returns the correct product, as expected. You can do more\n",
    "complicated calculations:"
   ]
  },
  {
   "cell_type": "code",
   "execution_count": 4,
   "metadata": {},
   "outputs": [
    {
     "data": {
      "text/plain": [
       "13.0"
      ]
     },
     "execution_count": 4,
     "metadata": {},
     "output_type": "execute_result"
    }
   ],
   "source": [
    "6+21/3"
   ]
  },
  {
   "cell_type": "markdown",
   "metadata": {},
   "source": [
    "Let's try some more arithmetic:"
   ]
  },
  {
   "cell_type": "code",
   "execution_count": 5,
   "metadata": {},
   "outputs": [
    {
     "data": {
      "text/plain": [
       "9.0"
      ]
     },
     "execution_count": 5,
     "metadata": {},
     "output_type": "execute_result"
    }
   ],
   "source": [
    "(6+21)/3"
   ]
  },
  {
   "cell_type": "markdown",
   "metadata": {},
   "source": [
    "Notice that the effect of the parentheses in `In [4]: (6+21)/3` is to\n",
    "cause the addition to be performed first and then the division. Without\n",
    "the parentheses, Python will always perform the multiplication and\n",
    "division operations *before* performing the addition and subtraction\n",
    "operations. The order in which arithmetic operations are performed is\n",
    "the same as for most calculators: exponentiation first, then\n",
    "multiplication or division, then addition or subtraction, then left to\n",
    "right.\n",
    "\n",
    "### Binary arithmetic operations in Python\n",
    "\n",
    "The table below lists the binary arithmatic operations in Python. It has\n",
    "all the standard binary operators for arithmetic, plus a few you may not\n",
    "have seen before.\n",
    "\n",
    "> <table style=\"width:75%;\">\n",
    "> <colgroup>\n",
    "> <col style=\"width: 25%\" />\n",
    "> <col style=\"width: 15%\" />\n",
    "> <col style=\"width: 16%\" />\n",
    "> <col style=\"width: 18%\" />\n",
    "> </colgroup>\n",
    "> <thead>\n",
    "> <tr class=\"header\">\n",
    "> <th><strong>Operation</strong></th>\n",
    "> <th><strong>Symbol</strong></th>\n",
    "> <th><strong>Example</strong></th>\n",
    "> <th><strong>Output</strong></th>\n",
    "> </tr>\n",
    "> </thead>\n",
    "> <tbody>\n",
    "> <tr class=\"odd\">\n",
    "> <td>addition</td>\n",
    "> <td><code>+</code></td>\n",
    "> <td><code>12+7</code></td>\n",
    "> <td><code>19</code></td>\n",
    "> </tr>\n",
    "> <tr class=\"even\">\n",
    "> <td>subtraction</td>\n",
    "> <td><code>-</code></td>\n",
    "> <td><code>12-7</code></td>\n",
    "> <td><code>5</code></td>\n",
    "> </tr>\n",
    "> <tr class=\"odd\">\n",
    "> <td>multiplication</td>\n",
    "> <td><code>*</code></td>\n",
    "> <td><code>12*7</code></td>\n",
    "> <td><code>84</code></td>\n",
    "> </tr>\n",
    "> <tr class=\"even\">\n",
    "> <td>division</td>\n",
    "> <td><code>/</code></td>\n",
    "> <td><code>12/7</code></td>\n",
    "> <td><code>1.714285</code></td>\n",
    "> </tr>\n",
    "> <tr class=\"odd\">\n",
    "> <td>floor division</td>\n",
    "> <td><code>//</code></td>\n",
    "> <td><code>12//7</code></td>\n",
    "> <td><code>1</code></td>\n",
    "> </tr>\n",
    "> <tr class=\"even\">\n",
    "> <td>remainder</td>\n",
    "> <td><code>%</code></td>\n",
    "> <td><code>12%7</code></td>\n",
    "> <td><code>5</code></td>\n",
    "> </tr>\n",
    "> <tr class=\"odd\">\n",
    "> <td>exponentiation</td>\n",
    "> <td><code>**</code></td>\n",
    "> <td><code>12**7</code></td>\n",
    "> <td><code>35831808</code></td>\n",
    "> </tr>\n",
    "> </tbody>\n",
    "> </table>\n",
    ">\n",
    "*Floor division*, designated by the symbols `//`, means divide and keep\n",
    "only the integer part without rounding. *Remainder*, designated by the\n",
    "symbols `%`, gives the remainder of after a floor division.\n",
    "\n",
    "### Warning\n",
    "\n",
    "#### Integer division is different in Python 2 and 3\n",
    "\n",
    "One peculiarity of all versions of Python prior to version 3 is that\n",
    "dividing two integers by each other yields the \"floor division\"\n",
    "result---another integer. Therefore `12/7` yields `1` whereas `12./7` or\n",
    "`12/7.` or `12./7.` all yield `1.714285`. Starting with version 3 of\n",
    "Python, all of the above expressions, including `3/2` yield `1.714285`.\n",
    "Unfortunately, we are using version 2.7 of Python so `12/7` yields `1`.\n",
    "You can force versions of Python prior to version 3 to divide integers\n",
    "like version 3 does by typing"
   ]
  },
  {
   "cell_type": "code",
   "execution_count": 6,
   "metadata": {},
   "outputs": [],
   "source": [
    "from __future__ import division"
   ]
  },
  {
   "cell_type": "markdown",
   "metadata": {},
   "source": [
    "at the beginning of an IPython session. You only need to type it once\n",
    "and it works for the entire session.\n",
    "\n",
    "### Types of numbers\n",
    "\n",
    "There are four different types of numbers in Python: plain integers,\n",
    "long integers, floating point numbers, and complex numbers.\n",
    "\n",
    "**Plain integers**, or simply **integers**, are 32 bits (binary digits)\n",
    "long, which means they extend from $-2^{31}=-2147483648$ to\n",
    "$2^{31}-1=2147483647$. One bit is used to store the sign of the integer\n",
    "so there are only 31 bits left---hence, the power of 31. In Python, a\n",
    "number is automatically treated as an integer if is written without a\n",
    "decimal point and it is within the bounds given above. This means that\n",
    "`23`, written without a decimal point, is an integer and `23.`, written\n",
    "with a decimal point, is a floating point number. If an integer extends\n",
    "beyond the bounds of a simple integer, the it becomes a **long\n",
    "integer**, and is designated as such by an `L` following the last digit.\n",
    "Here are some examples of integer arithmetic:"
   ]
  },
  {
   "cell_type": "code",
   "execution_count": 7,
   "metadata": {},
   "outputs": [
    {
     "data": {
      "text/plain": [
       "36"
      ]
     },
     "execution_count": 7,
     "metadata": {},
     "output_type": "execute_result"
    }
   ],
   "source": [
    "12*3"
   ]
  },
  {
   "cell_type": "code",
   "execution_count": 8,
   "metadata": {},
   "outputs": [
    {
     "data": {
      "text/plain": [
       "-134"
      ]
     },
     "execution_count": 8,
     "metadata": {},
     "output_type": "execute_result"
    }
   ],
   "source": [
    "4+5*6-(21*8)"
   ]
  },
  {
   "cell_type": "code",
   "execution_count": 9,
   "metadata": {},
   "outputs": [
    {
     "data": {
      "text/plain": [
       "2.2"
      ]
     },
     "execution_count": 9,
     "metadata": {},
     "output_type": "execute_result"
    }
   ],
   "source": [
    "11/5"
   ]
  },
  {
   "cell_type": "code",
   "execution_count": 10,
   "metadata": {},
   "outputs": [
    {
     "data": {
      "text/plain": [
       "2"
      ]
     },
     "execution_count": 10,
     "metadata": {},
     "output_type": "execute_result"
    }
   ],
   "source": [
    "11//5"
   ]
  },
  {
   "cell_type": "code",
   "execution_count": 11,
   "metadata": {},
   "outputs": [
    {
     "data": {
      "text/plain": [
       "772672768016"
      ]
     },
     "execution_count": 11,
     "metadata": {},
     "output_type": "execute_result"
    }
   ],
   "source": [
    "9734828*79372    # product of these two large integers is a long integer\n",
    "\n",
    "# Note: This behaviour is not true as of Python 3, and an integer will \n",
    "# always be as large as it needs to be, as shown below -- Loren."
   ]
  },
  {
   "cell_type": "markdown",
   "metadata": {},
   "source": [
    "For the binary operators `+`, `-`, `*`, and `//`, the output is an\n",
    "integer if the inputs are integers. The only exception is if the result\n",
    "of the calculation is out of the bounds of Python integers, in which\n",
    "case Python automatically converts the result to a long integer. The\n",
    "output of the division operator `/` is a floating point as of version 3\n",
    "of Python. If an integer output is desired when two integers are\n",
    "divided, the floor division operator `//` must be used.\n",
    "\n",
    "**Floating point** numbers are essentially rational numbers and can have\n",
    "a fractional part; integers, by their very nature, have no fractional\n",
    "part. In most versions of Python running on PCs or Macs, floating point\n",
    "numbers go between approximately $\\pm 2 \\times 10^{-308}$ and\n",
    "$\\pm 2 \\times 10^{308}$. Here are some examples of floating point\n",
    "arithmetic:"
   ]
  },
  {
   "cell_type": "code",
   "execution_count": 12,
   "metadata": {},
   "outputs": [
    {
     "data": {
      "text/plain": [
       "36.0"
      ]
     },
     "execution_count": 12,
     "metadata": {},
     "output_type": "execute_result"
    }
   ],
   "source": [
    "12.*3."
   ]
  },
  {
   "cell_type": "code",
   "execution_count": 13,
   "metadata": {},
   "outputs": [
    {
     "data": {
      "text/plain": [
       "-2974.53389920505"
      ]
     },
     "execution_count": 13,
     "metadata": {},
     "output_type": "execute_result"
    }
   ],
   "source": [
    "123.4*(-53.9)/numpy.sqrt(5.)"
   ]
  },
  {
   "cell_type": "code",
   "execution_count": 14,
   "metadata": {},
   "outputs": [
    {
     "data": {
      "text/plain": [
       "2.2"
      ]
     },
     "execution_count": 14,
     "metadata": {},
     "output_type": "execute_result"
    }
   ],
   "source": [
    "11./5."
   ]
  },
  {
   "cell_type": "code",
   "execution_count": 15,
   "metadata": {},
   "outputs": [
    {
     "data": {
      "text/plain": [
       "2.0"
      ]
     },
     "execution_count": 15,
     "metadata": {},
     "output_type": "execute_result"
    }
   ],
   "source": [
    "11.//5."
   ]
  },
  {
   "cell_type": "code",
   "execution_count": 16,
   "metadata": {},
   "outputs": [
    {
     "data": {
      "text/plain": [
       "1.0"
      ]
     },
     "execution_count": 16,
     "metadata": {},
     "output_type": "execute_result"
    }
   ],
   "source": [
    "11.%5."
   ]
  },
  {
   "cell_type": "code",
   "execution_count": 17,
   "metadata": {},
   "outputs": [
    {
     "data": {
      "text/plain": [
       "1.8066e+26"
      ]
     },
     "execution_count": 17,
     "metadata": {},
     "output_type": "execute_result"
    }
   ],
   "source": [
    "6.022e23*300."
   ]
  },
  {
   "cell_type": "markdown",
   "metadata": {},
   "source": [
    "Note that the result of any operation involving only floating point\n",
    "numbers as inputs is a real number, even in the cases where the floor\n",
    "division `//` or remainder `%` operators are used. The last output also\n",
    "illustrates an alternative way of writing floating point numbers as a\n",
    "mantissa followed by and `e` or `E` followed by a power of 10: so\n",
    "1.23e-12 is equivalent to $1.23 \\times 10^{-12}$.\n",
    "\n",
    "We also sneaked into our calculations `sqrt`, the square root function.\n",
    "We will have more to say about functions in a few pages.\n",
    "\n",
    "**Complex numbers** are written in Python as a sum of a real and\n",
    "imaginary part. For example, the complex number $3-2i$ is represented as\n",
    "`3-2j` in Python where `j` represents $\\sqrt{-1}$. Here are some\n",
    "examples of complex arithmetic:"
   ]
  },
  {
   "cell_type": "code",
   "execution_count": 18,
   "metadata": {},
   "outputs": [
    {
     "data": {
      "text/plain": [
       "(-35+6j)"
      ]
     },
     "execution_count": 18,
     "metadata": {},
     "output_type": "execute_result"
    }
   ],
   "source": [
    "(2+3j)*(-4+9j)"
   ]
  },
  {
   "cell_type": "code",
   "execution_count": 19,
   "metadata": {},
   "outputs": [
    {
     "data": {
      "text/plain": [
       "(0.1958762886597938-0.3092783505154639j)"
      ]
     },
     "execution_count": 19,
     "metadata": {},
     "output_type": "execute_result"
    }
   ],
   "source": [
    "(2+3j)/(-4+9j)"
   ]
  },
  {
   "cell_type": "code",
   "execution_count": 20,
   "metadata": {},
   "outputs": [
    {
     "name": "stderr",
     "output_type": "stream",
     "text": [
      "/Users/lorenoh/.local/conda/lib/python3.6/site-packages/ipykernel_launcher.py:1: RuntimeWarning: invalid value encountered in sqrt\n",
      "  \"\"\"Entry point for launching an IPython kernel.\n"
     ]
    },
    {
     "data": {
      "text/plain": [
       "nan"
      ]
     },
     "execution_count": 20,
     "metadata": {},
     "output_type": "execute_result"
    }
   ],
   "source": [
    "numpy.sqrt(-3)"
   ]
  },
  {
   "cell_type": "code",
   "execution_count": 21,
   "metadata": {},
   "outputs": [
    {
     "data": {
      "text/plain": [
       "1.7320508075688772j"
      ]
     },
     "execution_count": 21,
     "metadata": {},
     "output_type": "execute_result"
    }
   ],
   "source": [
    "numpy.sqrt(-3+0j)"
   ]
  },
  {
   "cell_type": "markdown",
   "metadata": {},
   "source": [
    "Notice that to obtain the expected result or $\\sqrt{-3}$, you must write\n",
    "the argument of the square root function as a complex number. Otherwise,\n",
    "Python returns `nan` (not a number).\n",
    "\n",
    "If you multiply an integer by a floating point number, the result is a\n",
    "floating point number. Similarly, if you multiply a floating point\n",
    "number by a complex number, the result is a complex number. Python\n",
    "always promotes the result to the most complex of the inputs."
   ]
  },
  {
   "cell_type": "markdown",
   "metadata": {},
   "source": [
    "Python Modules\n",
    "--------------\n",
    "\n",
    "The Python computer language consists of a \"core\" language plus a vast\n",
    "collection of supplementary software that is contained in **modules**.\n",
    "Many of these modules come with the standard Python distribution and\n",
    "provide added functionality for performing computer system tasks. Other\n",
    "modules provide more specialized capabilities that not every user may\n",
    "want. You can think of these modules as a kind of library from which you\n",
    "can borrow according to your needs.\n",
    "\n",
    "We will need three Python modules that are not part of the core Python\n",
    "distribution, but are nevertheless widely used for scientific computing.\n",
    "The three modules are\n",
    "\n",
    "> NumPy  \n",
    "> is the standard Python package for scientific computing with Python.\n",
    "> It provides the all-important `array` data structure, which is at the\n",
    "> very heart of NumPy. In also provides tools for creating and\n",
    "> manipulating arrays, including indexing and sorting, as well as basic\n",
    "> logical operations and element-by-element arithmetic operations like\n",
    "> addition, subtraction, multiplication, division, and exponentiation.\n",
    "> It includes the basic mathematical functions of trigonometry,\n",
    "> exponentials, and logarithms, as well vast collection of special\n",
    "> functions (Bessel functions, *etc.*), statistical functions, and\n",
    "> random number generators. It also includes a large number of linear\n",
    "> algebra routines that overlap with those in SciPy, although the SciPy\n",
    "> routines tend to be more complete. You can find more information about\n",
    "> NumPy at <http://docs.scipy.org/doc/numpy/reference/index.html>.\n",
    ">\n",
    "> SciPy  \n",
    "> provides a wide spectrum of mathematical functions and numerical\n",
    "> routines for Python. SciPy makes extensive use of NumPy arrays so when\n",
    "> you import SciPy, you should always import NumPy too. In addition to\n",
    "> providing basic mathematical functions, SciPy provides Python\n",
    "> \"wrappers\" for numerical software written in other languages, like\n",
    "> Fortran, C, or C++. A \"wrapper\" provides a transparent easy-to-use\n",
    "> Python interface to standard numerical software, such as routines for\n",
    "> doing curve fitting and numerically solving differential equations.\n",
    "> SciPy greatly extends the power of Python and saves you the trouble of\n",
    "> writing software in Python that someone else has already written and\n",
    "> optimized in some other language. You can find more information about\n",
    "> SciPy at <http://docs.scipy.org/doc/scipy/reference/>.\n",
    ">\n",
    "> MatPlotLib  \n",
    "> is the standard Python package for making two and three dimensional\n",
    "> plots. MatPlotLib makes extensive use of NumPy arrays. You will make\n",
    "> all of your plots in Python using this package. You can find more\n",
    "> information about MatPlotLib at <http://MatPlotLib.sourceforge.net/>.\n",
    "\n",
    "We will use these three modules extensively and therefore will provide\n",
    "introductions to their capabilities as we develop Python in this manual.\n",
    "The links above provide much more extensive information and you will\n",
    "certainly want to refer to them from time to time.\n",
    "\n",
    "These modules, NumPy, MatPlotLib, and SciPy, are built into the IPython\n",
    "shell so we can use them freely in that environment. Later, when we\n",
    "introduce Python programs (or scripts), we will see that in those cases\n",
    "you must explicitly load these modules using the `import` command to\n",
    "have access to them.\n",
    "\n",
    "Finally, we note that you can write your own Python modules. They are a\n",
    "convenient way of packaging and storing Python code so that you can\n",
    "reuse it. We defer learning about how to write modules until after we\n",
    "have learned about Python."
   ]
  },
  {
   "cell_type": "markdown",
   "metadata": {},
   "source": [
    "Python functions: a first look\n",
    "------------------------------\n",
    "\n",
    "A function in Python is similar to a mathematical function. In consists\n",
    "of a name and one or more arguments contained inside parentheses, and it\n",
    "produces some output. For example, the NumPy function `sin(x)`\n",
    "calculates the sine of the number `x` (where `x` is expressed in\n",
    "radians). Let's try it out in the IPython shell:"
   ]
  },
  {
   "cell_type": "code",
   "execution_count": 22,
   "metadata": {},
   "outputs": [
    {
     "data": {
      "text/plain": [
       "0.479425538604203"
      ]
     },
     "execution_count": 22,
     "metadata": {},
     "output_type": "execute_result"
    }
   ],
   "source": [
    "numpy.sin(0.5)"
   ]
  },
  {
   "cell_type": "markdown",
   "metadata": {},
   "source": [
    "The argument of the function can be a number or any kind of expression\n",
    "whose output produces a number. For example, the function `log(x)`\n",
    "calculates the natural logarithm of `x`. All of the following\n",
    "expressions are legal and produce the expected output:"
   ]
  },
  {
   "cell_type": "code",
   "execution_count": 23,
   "metadata": {},
   "outputs": [
    {
     "data": {
      "text/plain": [
       "-0.7351666863853142"
      ]
     },
     "execution_count": 23,
     "metadata": {},
     "output_type": "execute_result"
    }
   ],
   "source": [
    "numpy.log(numpy.sin(0.5))"
   ]
  },
  {
   "cell_type": "code",
   "execution_count": 24,
   "metadata": {},
   "outputs": [
    {
     "data": {
      "text/plain": [
       "0.3916538628347176"
      ]
     },
     "execution_count": 24,
     "metadata": {},
     "output_type": "execute_result"
    }
   ],
   "source": [
    "numpy.log(numpy.sin(0.5)+1.0)"
   ]
  },
  {
   "cell_type": "code",
   "execution_count": 25,
   "metadata": {},
   "outputs": [
    {
     "data": {
      "text/plain": [
       "1.5224265354444708"
      ]
     },
     "execution_count": 25,
     "metadata": {},
     "output_type": "execute_result"
    }
   ],
   "source": [
    "numpy.log(5.5/1.2)"
   ]
  },
  {
   "cell_type": "markdown",
   "metadata": {},
   "source": [
    "### Some NumPy functions\n",
    "\n",
    "NumPy includes an extensive library of mathematical functions. In the\n",
    "table below, we list some of the most useful ones. A much more complete\n",
    "list is available at\n",
    "<http://docs.scipy.org/doc/numpy/reference/ufuncs.html#math-operations>.\n",
    "\n",
    "> <table>\n",
    "> <colgroup>\n",
    "> <col style=\"width: 22%\" />\n",
    "> <col style=\"width: 77%\" />\n",
    "> </colgroup>\n",
    "> <thead>\n",
    "> <tr class=\"header\">\n",
    "> <th><strong>Function</strong></th>\n",
    "> <th><strong>Description</strong></th>\n",
    "> </tr>\n",
    "> </thead>\n",
    "> <tbody>\n",
    "> <tr class=\"odd\">\n",
    "> <td><code>sqrt(x)</code></td>\n",
    "> <td>Square root of <span class=\"math inline\"><em>x</em></span></td>\n",
    "> </tr>\n",
    "> <tr class=\"even\">\n",
    "> <td><code>exp(x)</code></td>\n",
    "> <td>Exponential of x, <em>i.e.</em> <span class=\"math inline\"><em>e</em><sup><em>x</em></sup></span></td>\n",
    "> </tr>\n",
    "> <tr class=\"odd\">\n",
    "> <td><code>log(x)</code></td>\n",
    "> <td>Natural log of x, <em>i.e.</em> <span class=\"math inline\">ln <em>x</em></span></td>\n",
    "> </tr>\n",
    "> <tr class=\"even\">\n",
    "> <td><code>log10(x)</code></td>\n",
    "> <td>Base 10 log of <span class=\"math inline\"><em>x</em></span></td>\n",
    "> </tr>\n",
    "> <tr class=\"odd\">\n",
    "> <td><code>degrees(x)</code></td>\n",
    "> <td>Converts <span class=\"math inline\"><em>x</em></span> from radians to degrees</td>\n",
    "> </tr>\n",
    "> <tr class=\"even\">\n",
    "> <td><code>radians(x)</code></td>\n",
    "> <td>Converts <span class=\"math inline\"><em>x</em></span> from degrees to radians</td>\n",
    "> </tr>\n",
    "> <tr class=\"odd\">\n",
    "> <td><code>sin(x)</code></td>\n",
    "> <td>Sine of <span class=\"math inline\"><em>x</em></span> (<span class=\"math inline\"><em>x</em></span> in radians)</td>\n",
    "> </tr>\n",
    "> <tr class=\"even\">\n",
    "> <td><code>cos(x)</code></td>\n",
    "> <td>Cosine <span class=\"math inline\"><em>x</em></span> (<span class=\"math inline\"><em>x</em></span> in radians)</td>\n",
    "> </tr>\n",
    "> <tr class=\"odd\">\n",
    "> <td><code>tan(x)</code></td>\n",
    "> <td>Tangent <span class=\"math inline\"><em>x</em></span> (<span class=\"math inline\"><em>x</em></span> in radians)</td>\n",
    "> </tr>\n",
    "> <tr class=\"even\">\n",
    "> <td><code>arcsin(x)</code></td>\n",
    "> <td>Arc sine (in radians) of <span class=\"math inline\"><em>x</em></span></td>\n",
    "> </tr>\n",
    "> <tr class=\"odd\">\n",
    "> <td><code>arccos(x)</code></td>\n",
    "> <td>Arc cosine (in radians) of <span class=\"math inline\"><em>x</em></span></td>\n",
    "> </tr>\n",
    "> <tr class=\"even\">\n",
    "> <td><code>arctan(x)</code></td>\n",
    "> <td>Arc tangent (in radians) of <span class=\"math inline\"><em>x</em></span></td>\n",
    "> </tr>\n",
    "> <tr class=\"odd\">\n",
    "> <td><code>fabs(x)</code></td>\n",
    "> <td>Absolute value of <span class=\"math inline\"><em>x</em></span></td>\n",
    "> </tr>\n",
    "> <tr class=\"even\">\n",
    "> <td><code>round(x)</code></td>\n",
    "> <td>Rounds a float to nearest integer</td>\n",
    "> </tr>\n",
    "> <tr class=\"odd\">\n",
    "> <td><code>floor(x)</code></td>\n",
    "> <td>Rounds a float <em>down</em> to nearest integer</td>\n",
    "> </tr>\n",
    "> <tr class=\"even\">\n",
    "> <td><code>ceil(x)</code></td>\n",
    "> <td>Rounds a float <em>up</em> to nearest integer</td>\n",
    "> </tr>\n",
    "> <tr class=\"odd\">\n",
    "> <td><code>sign(x)</code></td>\n",
    "> <td>-1 if <span class=\"math inline\"><em>x</em> &lt; 0</span>, +1 if <span class=\"math inline\"><em>x</em> &gt; 0</span>, 0 if <span class=\"math inline\"><em>x</em> = 0</span></td>\n",
    "> </tr>\n",
    "> </tbody>\n",
    "> </table>\n",
    ">\n",
    "The functions discussed here all have one input and one output. Python\n",
    "functions can, in general, have multiple inputs and multiple outputs. We\n",
    "will discuss these and other features of functions later when we take up\n",
    "functions in the context of user-defined functions.\n",
    "\n",
    "### Keyword arguments\n",
    "\n",
    "In addition to regular arguments, Python functions can have keyword\n",
    "arguments (`kwargs`). Keyword arguments are *optional* arguments that\n",
    "need not be specified when a function is called. See\n",
    "`chap5BasicPlotting` for examples of the use of keyword arguments. For\n",
    "the moment, we don't need them so we defer a full discussion of keyword\n",
    "arguments until we introduce them in the section on `userDefdFuncs`."
   ]
  },
  {
   "cell_type": "markdown",
   "metadata": {},
   "source": [
    "Variables\n",
    "---------\n",
    "\n",
    "### Names and the assignment operator\n",
    "\n",
    "single: variable single: assignment operator\n",
    "\n",
    "A variable is a name that is used to store data. It can be used to store\n",
    "different kinds of data, but here we consider the simplest case where\n",
    "the data is a single numerical value. Here are a few examples:"
   ]
  },
  {
   "cell_type": "code",
   "execution_count": 26,
   "metadata": {},
   "outputs": [],
   "source": [
    "a = 23"
   ]
  },
  {
   "cell_type": "code",
   "execution_count": 27,
   "metadata": {},
   "outputs": [],
   "source": [
    "p, q = 83.4, numpy.sqrt(2)"
   ]
  },
  {
   "cell_type": "markdown",
   "metadata": {},
   "source": [
    "The equal sign \"`=`\" is the *assignment operator*. In the first\n",
    "statement, it assigns the value of 23 to the variable `a`. In the second\n",
    "statement it assigns a value of 83.4 to `p` and a value of\n",
    "1.4142135623730951 to `q`. To be more precise, the name of a variable,\n",
    "such as `a`, is associated with a *memory location* in your computer;\n",
    "the assignment variable tells the computer to put a particular piece of\n",
    "data, in this case a numerical value, in that memory location. Note that\n",
    "Python stores the *numerical value*, not the expression used to generate\n",
    "it. Thus, `q` is assigned the 17-digit number 1.4142135623730951\n",
    "generated by evaluating the expression `sqrt(2)`, *not* with $\\sqrt{2}$.\n",
    "(Actually the value of `q` is stored as a binary, base 2, number using\n",
    "scientific notation with a mantissa and an exponent.)\n",
    "\n",
    "Suppose we write"
   ]
  },
  {
   "cell_type": "code",
   "execution_count": 28,
   "metadata": {},
   "outputs": [],
   "source": [
    "b = a"
   ]
  },
  {
   "cell_type": "markdown",
   "metadata": {},
   "source": [
    "In this case Python associates a new memory location with the name `b`,\n",
    "distinct from the one associated with `a`, and sets the value stored at\n",
    "that memory location to 23, the value of `a`. The following sequence of\n",
    "statements demonstrate that fact. Can you see how? Notice that simply\n",
    "typing a variable name and pressing `Return` prints out the value of the\n",
    "variable."
   ]
  },
  {
   "cell_type": "code",
   "execution_count": 29,
   "metadata": {},
   "outputs": [],
   "source": [
    "a = 23"
   ]
  },
  {
   "cell_type": "code",
   "execution_count": 30,
   "metadata": {},
   "outputs": [],
   "source": [
    "b = a"
   ]
  },
  {
   "cell_type": "code",
   "execution_count": 31,
   "metadata": {},
   "outputs": [
    {
     "data": {
      "text/plain": [
       "23"
      ]
     },
     "execution_count": 31,
     "metadata": {},
     "output_type": "execute_result"
    }
   ],
   "source": [
    "a"
   ]
  },
  {
   "cell_type": "code",
   "execution_count": 32,
   "metadata": {},
   "outputs": [
    {
     "data": {
      "text/plain": [
       "23"
      ]
     },
     "execution_count": 32,
     "metadata": {},
     "output_type": "execute_result"
    }
   ],
   "source": [
    "b"
   ]
  },
  {
   "cell_type": "code",
   "execution_count": 33,
   "metadata": {},
   "outputs": [],
   "source": [
    "a = 12"
   ]
  },
  {
   "cell_type": "code",
   "execution_count": 34,
   "metadata": {},
   "outputs": [
    {
     "data": {
      "text/plain": [
       "12"
      ]
     },
     "execution_count": 34,
     "metadata": {},
     "output_type": "execute_result"
    }
   ],
   "source": [
    "a"
   ]
  },
  {
   "cell_type": "code",
   "execution_count": 35,
   "metadata": {},
   "outputs": [
    {
     "data": {
      "text/plain": [
       "23"
      ]
     },
     "execution_count": 35,
     "metadata": {},
     "output_type": "execute_result"
    }
   ],
   "source": [
    "b"
   ]
  },
  {
   "cell_type": "markdown",
   "metadata": {},
   "source": [
    "The assignment variable works from right to left; that is, it assigns\n",
    "the value of the number on the right to the variable name on the left.\n",
    "Therefore, the statement \"`5=a`\" makes no sense in Python. The\n",
    "assignment operator \"`=`\" in Python is not equivalent to the equals sign\n",
    "\"$=$\" we are accustomed to in algebra.\n",
    "\n",
    "The assignment operator can be used to increment or change the value of\n",
    "a variable"
   ]
  },
  {
   "cell_type": "code",
   "execution_count": 36,
   "metadata": {},
   "outputs": [],
   "source": [
    "b = b + 1"
   ]
  },
  {
   "cell_type": "code",
   "execution_count": 37,
   "metadata": {},
   "outputs": [
    {
     "data": {
      "text/plain": [
       "24"
      ]
     },
     "execution_count": 37,
     "metadata": {},
     "output_type": "execute_result"
    }
   ],
   "source": [
    "b"
   ]
  },
  {
   "cell_type": "markdown",
   "metadata": {},
   "source": [
    "The statement, `b = b+1` makes no sense in algebra, but in Python (and\n",
    "most computer languages), it makes perfect sense: it means \"add 1 to the\n",
    "current value of `b` and assign the result to `b`.\" This construction\n",
    "appears so often in computer programming that there is a special set of\n",
    "operators to perform such changes to a variable: `+=`, `-=`, `*=`, and\n",
    "`/=`. Here are some examples of how they work:"
   ]
  },
  {
   "cell_type": "code",
   "execution_count": 38,
   "metadata": {},
   "outputs": [],
   "source": [
    "c , d = 4, 7.92"
   ]
  },
  {
   "cell_type": "code",
   "execution_count": 39,
   "metadata": {},
   "outputs": [],
   "source": [
    "c += 2"
   ]
  },
  {
   "cell_type": "code",
   "execution_count": 40,
   "metadata": {},
   "outputs": [
    {
     "data": {
      "text/plain": [
       "6"
      ]
     },
     "execution_count": 40,
     "metadata": {},
     "output_type": "execute_result"
    }
   ],
   "source": [
    "c"
   ]
  },
  {
   "cell_type": "code",
   "execution_count": 41,
   "metadata": {},
   "outputs": [],
   "source": [
    "c *= 3"
   ]
  },
  {
   "cell_type": "code",
   "execution_count": 42,
   "metadata": {},
   "outputs": [
    {
     "data": {
      "text/plain": [
       "18"
      ]
     },
     "execution_count": 42,
     "metadata": {},
     "output_type": "execute_result"
    }
   ],
   "source": [
    "c"
   ]
  },
  {
   "cell_type": "code",
   "execution_count": 43,
   "metadata": {},
   "outputs": [],
   "source": [
    "d /= -2"
   ]
  },
  {
   "cell_type": "code",
   "execution_count": 44,
   "metadata": {},
   "outputs": [
    {
     "data": {
      "text/plain": [
       "-3.96"
      ]
     },
     "execution_count": 44,
     "metadata": {},
     "output_type": "execute_result"
    }
   ],
   "source": [
    "d"
   ]
  },
  {
   "cell_type": "code",
   "execution_count": 45,
   "metadata": {},
   "outputs": [],
   "source": [
    "d -= 4"
   ]
  },
  {
   "cell_type": "code",
   "execution_count": 46,
   "metadata": {},
   "outputs": [
    {
     "data": {
      "text/plain": [
       "-7.96"
      ]
     },
     "execution_count": 46,
     "metadata": {},
     "output_type": "execute_result"
    }
   ],
   "source": [
    "d"
   ]
  },
  {
   "cell_type": "markdown",
   "metadata": {},
   "source": [
    "Verify that you understand how the above operations work."
   ]
  },
  {
   "cell_type": "markdown",
   "metadata": {},
   "source": [
    "### Legal and recommended variable names\n",
    "\n",
    "Variable names in Python must start with a letter, and can be followed\n",
    "by as many alphanumeric characters as you like. Spaces are not allowed\n",
    "in variable names. However, the underscore character \"`_`\" is allowed,\n",
    "but no other character that is not a letter or a number is permitted.\n",
    "\n",
    "Recall that Python is *case sensitive*, so the variable `a` is distinct\n",
    "from the variable `A`.\n",
    "\n",
    "We recommend giving your variables descriptive names as in the following\n",
    "calculation:"
   ]
  },
  {
   "cell_type": "code",
   "execution_count": 47,
   "metadata": {},
   "outputs": [],
   "source": [
    "distance = 34."
   ]
  },
  {
   "cell_type": "code",
   "execution_count": 48,
   "metadata": {},
   "outputs": [],
   "source": [
    "time_traveled = 0.59"
   ]
  },
  {
   "cell_type": "code",
   "execution_count": 49,
   "metadata": {},
   "outputs": [],
   "source": [
    "velocity = distance / time_traveled"
   ]
  },
  {
   "cell_type": "code",
   "execution_count": 50,
   "metadata": {},
   "outputs": [
    {
     "data": {
      "text/plain": [
       "57.6271186440678"
      ]
     },
     "execution_count": 50,
     "metadata": {},
     "output_type": "execute_result"
    }
   ],
   "source": [
    "velocity"
   ]
  },
  {
   "cell_type": "markdown",
   "metadata": {},
   "source": [
    "The variable names `distance`, `time_traveled`, and `velocity`\n",
    "immediately remind you of what is being calculated here. This is good\n",
    "practice. But so is keeping variable names reasonably short, so don't go\n",
    "nuts!"
   ]
  },
  {
   "cell_type": "markdown",
   "metadata": {},
   "source": [
    "### Reserved words in Python\n",
    "\n",
    "There are also some names or words that are reserved by Python for\n",
    "special purposes or functions. You must avoid using these names, which\n",
    "are provided here for your reference:\n",
    "\n",
    "> <table style=\"width:81%;\">\n",
    "> <colgroup>\n",
    "> <col style=\"width: 18%\" />\n",
    "> <col style=\"width: 16%\" />\n",
    "> <col style=\"width: 15%\" />\n",
    "> <col style=\"width: 15%\" />\n",
    "> <col style=\"width: 15%\" />\n",
    "> </colgroup>\n",
    "> <tbody>\n",
    "> <tr class=\"odd\">\n",
    "> <td><code>and</code></td>\n",
    "> <td><code>del</code></td>\n",
    "> <td><code>from</code></td>\n",
    "> <td><code>not</code></td>\n",
    "> <td><code>while</code></td>\n",
    "> </tr>\n",
    "> <tr class=\"even\">\n",
    "> <td><code>as</code></td>\n",
    "> <td><code>elif</code></td>\n",
    "> <td><code>global</code></td>\n",
    "> <td><code>or</code></td>\n",
    "> <td><code>with</code></td>\n",
    "> </tr>\n",
    "> <tr class=\"odd\">\n",
    "> <td><code>assert</code></td>\n",
    "> <td><code>else</code></td>\n",
    "> <td><code>if</code></td>\n",
    "> <td><code>pass</code></td>\n",
    "> <td><code>yield</code></td>\n",
    "> </tr>\n",
    "> <tr class=\"even\">\n",
    "> <td><code>break</code></td>\n",
    "> <td><code>except</code></td>\n",
    "> <td><code>import</code></td>\n",
    "> <td><code>print</code></td>\n",
    "> <td></td>\n",
    "> </tr>\n",
    "> <tr class=\"odd\">\n",
    "> <td><code>class</code></td>\n",
    "> <td><code>exec</code></td>\n",
    "> <td><code>in</code></td>\n",
    "> <td><code>raise</code></td>\n",
    "> <td></td>\n",
    "> </tr>\n",
    "> <tr class=\"even\">\n",
    "> <td><code>continue</code></td>\n",
    "> <td><code>finally</code></td>\n",
    "> <td><code>is</code></td>\n",
    "> <td><code>return</code></td>\n",
    "> <td></td>\n",
    "> </tr>\n",
    "> <tr class=\"odd\">\n",
    "> <td><code>def</code></td>\n",
    "> <td><code>for</code></td>\n",
    "> <td><code>lambda</code></td>\n",
    "> <td><code>try</code></td>\n",
    "> <td></td>\n",
    "> </tr>\n",
    "> </tbody>\n",
    "> </table>\n",
    ">\n",
    "\n",
    "In addition, you should not use function names, like `sin`, `cos`, and\n",
    "`sqrt`, defined in the SciPy, NumPy, or any other library that you are\n",
    "using."
   ]
  },
  {
   "cell_type": "markdown",
   "metadata": {},
   "source": [
    "Script files and programs\n",
    "-------------------------\n",
    "\n",
    "Performing calculations in the IPython shell is handy if the\n",
    "calculations are short. But calculations quickly become tedious when\n",
    "they are more than a few lines long. If you discover you made a mistake\n",
    "at some early step, for example, you may have to go back and retype all\n",
    "the steps subsequent to the error. The solution to this problem is to\n",
    "save your code in a file. Saving code in a file means you can just\n",
    "correct the error and rerun the code without having to retype it. Saving\n",
    "code can also be useful if you want to reuse it later, perhaps with\n",
    "different inputs.\n",
    "\n",
    "When we save code in a computer file, we call the sequence of commands\n",
    "stored in the file a *script* or a *program* or sometimes a *routine*.\n",
    "Programs can become quite sophisticated and complex. Here we are only\n",
    "going to introduce the simplest features of programming by writing a\n",
    "very simple script. Much later, we will introduce some of the more\n",
    "advanced features of programming.\n",
    "\n",
    "#### Tab Completion\n",
    "\n",
    "To write a script you need a text editor. In principle, any text editor\n",
    "will do, but it's more convenient to use an editor that was designed for\n",
    "the task. We are going to use the **Code Editor** in the Spyder window\n",
    "that appears when you launch Spyder. This editor, like most good\n",
    "programming editors, provides syntax highlighting, which color codes key\n",
    "words, comments, and other features of the Python syntax according to\n",
    "their function, and thus makes it easier to read the code and easier to\n",
    "spot programming mistakes. The Canopy code editor also provides syntax\n",
    "checking, much like a spell-checker in a word processing program, that\n",
    "identifies many coding errors. This can greatly speed the coding\n",
    "process. Tab completion also work.\n",
    "\n",
    "### Scripting Example 1\n",
    "\n",
    "Let's work through an example to see how scripting works. Suppose you\n",
    "are going on a road trip and you would like to estimate how long the\n",
    "drive will take, how much gas you will need, and the cost of the gas.\n",
    "It's a simple calculation. As inputs, you will need the distance of the\n",
    "trip, your average speed, the cost of gasoline, and the mileage of your\n",
    "car.\n",
    "\n",
    "Writing a script to do these calculations is straightforward. First,\n",
    "launch Spyder and open the code editor. Enter the following in the\n",
    "editor pane:"
   ]
  },
  {
   "cell_type": "code",
   "execution_count": 51,
   "metadata": {},
   "outputs": [],
   "source": [
    "# Calculates time, gallons of gas used, and cost of gasoline for\n",
    "# a trip\n",
    "distance = 400.         # miles\n",
    "mpg = 30.               # car mileage\n",
    "speed = 60.             # average speed\n",
    "costPerGallon = 4.10    # price of gas\n",
    "\n",
    "time = distance / speed\n",
    "gallons = distance / mpg\n",
    "cost = gallons * costPerGallon"
   ]
  },
  {
   "cell_type": "markdown",
   "metadata": {},
   "source": [
    "The number (or hash) symbol `#` is the \"comment\" character in Python;\n",
    "anything on a line following `#` is ignored when the code is executed.\n",
    "Judicious use of comments in your code will make your code much easier\n",
    "to understand days, weeks, or months after the time you wrote it. Use\n",
    "comments generously.\n",
    "\n",
    "Python ignores blank spaces or \"white space\" as it is sometimes called.\n",
    "The statement `costPerGallon = 4.10` in the above program could equally\n",
    "well be written as `costPerGallon=4.10` without the spaces before and\n",
    "after the `=` assignment operator; either way the statement means the\n",
    "same thing. Similarly, the white space after `costPerGallon = 4.10` but\n",
    "before the comment (hash) symbol is also ignored by Python. The idea is\n",
    "that you should use white space to make your program more readable.\n",
    "\n",
    "Now you are ready to run the code.\n",
    "\n",
    "``` ipython\n",
    "In [1]: cd ~/Documents/PyProgs/\n",
    "```\n",
    "\n",
    "To *run* or *execute* a script, simply type `run` *filename*, which in\n",
    "this case means type `run myTrip.py`. When you run a script, Python\n",
    "simply executes the sequence of commands in the order they appear.\n",
    "\n",
    "``` ipython\n",
    "In [2]: run myTrip.py\n",
    "```\n",
    "\n",
    "Once you have run the script, you can see the values of the variables\n",
    "calculated in the script simply by typing the name of the variable.\n",
    "IPython responds with the value of that variable.\n",
    "\n",
    "``` ipython\n",
    "In [3]: time\n",
    "Out[3]: 6.666666666666667\n",
    "\n",
    "In [4]: gallons\n",
    "Out[4]: 13.333333333333334\n",
    "\n",
    "In [5]: cost\n",
    "Out[5]: 54.666666666666664\n",
    "```\n",
    "\n",
    "You can change the number of digits IPython displays using the command\n",
    "`%precision`:\n",
    "\n",
    "``` ipython\n",
    "In [6]: %precision 2\n",
    "Out[6]: u'%.2f'\n",
    "\n",
    "In [7]: time\n",
    "Out[7]: 6.67\n",
    "\n",
    "In [8]: gallons\n",
    "Out[8]: 13.33\n",
    "\n",
    "In [9]: cost\n",
    "Out[9]: 54.67\n",
    "```\n",
    "\n",
    "Typing `%precision` returns IPython to its default state;\n",
    "`%precision %e` causes IPython to display numbers in exponential format\n",
    "(scientific notation).\n",
    "\n",
    "#### Note about printing\n",
    "\n",
    "If you want your script to return the value of a variable (that is,\n",
    "print the value of the variable to your computer screen), use the\n",
    "`print` function. For example, at the end of our script, if we include\n",
    "the code\n",
    "\n",
    "``` python\n",
    "print(time)\n",
    "print(gallons)\n",
    "print(cost)\n",
    "```\n",
    "\n",
    "the script will return the values of the variables `time`, `gallons`,\n",
    "and `cost` that the script calculated. We will discuss the `print`\n",
    "function in much greater detail, as well as other methods for data\n",
    "output, in Chapter 4 on `chap4`."
   ]
  },
  {
   "cell_type": "markdown",
   "metadata": {},
   "source": [
    "### Scripting Example 2\n",
    "\n",
    "Let's try another problem. Suppose you want to find the distance between\n",
    "two Cartesian coordinates $(x_1, y_1, z_1)$ and $(x_2, y_2, z_2)$. The\n",
    "distance is given by the formula\n",
    "\n",
    "$$\\Delta r = \\sqrt{(x_2-x_1)^2+(y_2-y_1)^2+(z_2-z_1)^2}$$\n",
    "\n",
    "Now let's write a script to do this calculation and save it in a file\n",
    "called `twoPointDistance.py`."
   ]
  },
  {
   "cell_type": "code",
   "execution_count": 52,
   "metadata": {},
   "outputs": [],
   "source": [
    "# Calculates the distance between two 3d Cartesian coordinates\n",
    "import numpy as np\n",
    "\n",
    "x1, y1, z1 = 23.7, -9.2, -7.8\n",
    "x2, y2, z2 = -3.5, 4.8, 8.1\n",
    "\n",
    "dr = np.sqrt( (x2-x1)**2 + (y2-y1)**2 + (z2-z1)**2 )"
   ]
  },
  {
   "cell_type": "markdown",
   "metadata": {},
   "source": [
    "We have introduced extra spaces into some of the expressions to improve\n",
    "readability. They are not necessary; where and whether you include them\n",
    "is largely a matter of taste.\n",
    "\n",
    "There are two important differences between the code above and the\n",
    "commands we would have written into the IPython console to execute the\n",
    "same set of commands. The first is the statement on the second line"
   ]
  },
  {
   "cell_type": "markdown",
   "metadata": {},
   "source": [
    "``` python\n",
    "...\n",
    "import numpy as np\n",
    "...\n",
    "```"
   ]
  },
  {
   "cell_type": "markdown",
   "metadata": {},
   "source": [
    "and the second is the \"`np.`\" in front of the `sqrt` function on the\n",
    "last line. If you leave out the `import numpy as np` line and remove the\n",
    "`np.` in front of the `sqrt` function, you will get the following error\n",
    "message"
   ]
  },
  {
   "cell_type": "code",
   "execution_count": 53,
   "metadata": {},
   "outputs": [
    {
     "ename": "NameError",
     "evalue": "name 'sqrt' is not defined",
     "output_type": "error",
     "traceback": [
      "\u001b[0;31m---------------------------------------------------------------------------\u001b[0m",
      "\u001b[0;31mNameError\u001b[0m                                 Traceback (most recent call last)",
      "\u001b[0;32m<ipython-input-53-ba9cb0cdf572>\u001b[0m in \u001b[0;36m<module>\u001b[0;34m\u001b[0m\n\u001b[0;32m----> 1\u001b[0;31m \u001b[0mdr\u001b[0m \u001b[0;34m=\u001b[0m \u001b[0msqrt\u001b[0m\u001b[0;34m(\u001b[0m \u001b[0;34m(\u001b[0m\u001b[0mx2\u001b[0m\u001b[0;34m-\u001b[0m\u001b[0mx1\u001b[0m\u001b[0;34m)\u001b[0m\u001b[0;34m**\u001b[0m\u001b[0;36m2\u001b[0m \u001b[0;34m+\u001b[0m \u001b[0;34m(\u001b[0m\u001b[0my2\u001b[0m\u001b[0;34m-\u001b[0m\u001b[0my1\u001b[0m\u001b[0;34m)\u001b[0m\u001b[0;34m**\u001b[0m\u001b[0;36m2\u001b[0m \u001b[0;34m+\u001b[0m \u001b[0;34m(\u001b[0m\u001b[0mz2\u001b[0m\u001b[0;34m-\u001b[0m\u001b[0mz1\u001b[0m\u001b[0;34m)\u001b[0m\u001b[0;34m**\u001b[0m\u001b[0;36m2\u001b[0m \u001b[0;34m)\u001b[0m\u001b[0;34m\u001b[0m\u001b[0;34m\u001b[0m\u001b[0m\n\u001b[0m",
      "\u001b[0;31mNameError\u001b[0m: name 'sqrt' is not defined"
     ]
    }
   ],
   "source": [
    "dr = sqrt( (x2-x1)**2 + (y2-y1)**2 + (z2-z1)**2 )"
   ]
  },
  {
   "cell_type": "markdown",
   "metadata": {},
   "source": [
    "The reason for the error is that the `sqrt` function is not a part of\n",
    "core Python. But it is a part of the NumPy module discussed earlier. To\n",
    "make the NumPy library available to the script, you need to add the\n",
    "statement `import numpy as np`. Then, when you call a NumPy function,\n",
    "you need to write the function with the `np.` prefix. Failure to do\n",
    "either will result in a error message. Now we can run the script.\n",
    "\n",
    "``` ipython\n",
    "In [10]: run twoPointDistance.py\n",
    "In [11]: dr\n",
    "Out[11]: 34.48\n",
    "```\n",
    "\n",
    "The script works as expected.\n",
    "\n",
    "The reason we do not have to import NumPy when working in the IPython\n",
    "shell is that it is done automatically when the IPython shell is\n",
    "launched. Similarly, the package MatPlotLib is also automatically loaded\n",
    "(imported) when IPython is launched. However, when a script or program\n",
    "is executed, it is run on its own outside the IPython shell, even if the\n",
    "command to run the script is executed from the IPython shell."
   ]
  },
  {
   "cell_type": "markdown",
   "metadata": {},
   "source": [
    "#### Line continuation\n",
    "\n",
    "From time to time, a line of code in a script will be unusually long,\n",
    "which can make the code difficult to read. In such cases, it is\n",
    "advisable to split the code onto several lines. For example, line 7 in\n",
    "the preceding script could be written as"
   ]
  },
  {
   "cell_type": "code",
   "execution_count": 54,
   "metadata": {},
   "outputs": [],
   "source": [
    "dr = np.sqrt( (x2-x1)**2 \n",
    "            + (y2-y1)**2 \n",
    "            + (z2-z1)**2 )"
   ]
  },
  {
   "cell_type": "markdown",
   "metadata": {},
   "source": [
    "You can generally continue an expression on another line in Python for\n",
    "code that is within a function argument, as it is here where the line is\n",
    "split inside the argument of the square root function. Note that the\n",
    "sub-expressions written on different lines are lined up. This is done\n",
    "solely to improve readability; Python does not require it. Nevertheless,\n",
    "as the whole point of splitting a line is to improve readability, it's\n",
    "best to line up expressions so as to maximize readability.\n",
    "\n",
    "You can split any Python line inside of parentheses, brackets, and\n",
    "braces, as illustrated above. You can split it other places as well by\n",
    "using the backslash (`\\`) character. For example, the code"
   ]
  },
  {
   "cell_type": "code",
   "execution_count": 55,
   "metadata": {},
   "outputs": [],
   "source": [
    "a = 1 + 2 \\\n",
    "  + 3 + 4"
   ]
  },
  {
   "cell_type": "markdown",
   "metadata": {},
   "source": [
    "is equivalent to"
   ]
  },
  {
   "cell_type": "code",
   "execution_count": 56,
   "metadata": {},
   "outputs": [],
   "source": [
    "a = 1 + 2 + 3 + 4"
   ]
  },
  {
   "cell_type": "markdown",
   "metadata": {},
   "source": [
    "So you can use backslash character (`\\`) of explicit line continuation\n",
    "when implicit line continuation won't work."
   ]
  },
  {
   "cell_type": "markdown",
   "metadata": {},
   "source": [
    "Importing Modules\n",
    "-----------------\n",
    "\n",
    "single: module; importing\n",
    "\n",
    "We saw in Example 2 in the last section that we needed to import the\n",
    "NumPy module in order to use the `sqrt` function. Indeed the NumPy\n",
    "library contains many useful functions, some of which are listed in\n",
    "section `chap2:NumPyFuncs`. Whenever any NumPy functions are used, the\n",
    "NumPy library must be loaded using an `import` statement.\n",
    "\n",
    "There are a few ways to do this. The one we generally recommend is to\n",
    "use the `import as` implementation that we used in Example 2. For the\n",
    "main NumPy and MatPlotLib libraries, this is implemented as follows:\n",
    "\n",
    "``` python\n",
    "import numpy as np\n",
    "import maplotlib.pyplot as plt\n",
    "```\n",
    "\n",
    "These statements import the entire library named in the `import`\n",
    "statement and associate a prefix with the imported library: `np` and\n",
    "`plt` in the above examples. Functions from within these libraries are\n",
    "then called by attaching the appropriate prefix with a period *before*\n",
    "the function name. Thus, the functions `sqrt` or `sin` from the NumPy\n",
    "library are called using the syntax `np.sqrt` or `np.sin`; the functions\n",
    "`plot` or `xlabel` from the `maplotlib.pyplot` would be called using\n",
    "`plt.plot` or `plt.xlabel`.\n",
    "\n",
    "Alternatively, the NumPy and MatPlotLib libraries can be called simply\n",
    "by writing\n",
    "\n",
    "``` python\n",
    "import numpy\n",
    "import maplotlib.pyplot\n",
    "```\n",
    "\n",
    "When loaded this way, the `sqrt` function would be called as\n",
    "`numpy.sqrt` and the `plot` function would be called as\n",
    "`MatPlotLib.pyplot.plot`. The `import as` syntax allows you to define\n",
    "nicknames for `numpy` and `maplotlib.pyplot`. Nearly any nickname can be\n",
    "chosen, but the Python community has settled on the nicknames `np` and\n",
    "`plt` for `numpy` and `maplotlib.pyplot`, so you are advised to stick\n",
    "with those. Using the standard nicknames makes your code more readable.\n",
    "\n",
    "You can also import a single functions or subset of functions from a\n",
    "module without importing the entire module. For example, suppose you\n",
    "wanted to import just the natural log function `log` from NumPy. You\n",
    "could write\n",
    "\n",
    "``` python\n",
    "from numpy import log\n",
    "```\n",
    "\n",
    "To use the `log` function in a script, you would write\n",
    "\n",
    "``` python\n",
    "a = log(5)\n",
    "```\n",
    "\n",
    "which would assign the value `1.6094379124341003` to the variable `a`.\n",
    "If you wanted to import the three functions, `log`, `sin`, and `cos`,\n",
    "you would write\n",
    "\n",
    "``` python\n",
    "from numpy import log, sin, cos\n",
    "```\n",
    "\n",
    "and would similarly use them without an \"`np.`\" prefix. In general, we\n",
    "do not recommend using the the `from` *module* `import ...` way of\n",
    "importing functions. When reading code, it makes it harder to determine\n",
    "from which modules functions are imported, and can lead to clashes\n",
    "between similarly named functions from different modules. Nevertheless,\n",
    "you will see the form used in programs you encounter on the web and\n",
    "elsewhere so it is important to understand the syntax."
   ]
  },
  {
   "cell_type": "markdown",
   "metadata": {},
   "source": [
    "Getting help: documentation in IPython shell\n",
    "--------------------------------------------\n",
    "\n",
    "Help is never far away when you are running the IPython shell. To obtain\n",
    "information on any valid Python or NumPy function, and many MatPlotLib\n",
    "functions, simply type `help(` *function* `)`, as illustrated here"
   ]
  },
  {
   "cell_type": "code",
   "execution_count": 57,
   "metadata": {},
   "outputs": [
    {
     "name": "stdout",
     "output_type": "stream",
     "text": [
      "Help on class range in module builtins:\n",
      "\n",
      "class range(object)\n",
      " |  range(stop) -> range object\n",
      " |  range(start, stop[, step]) -> range object\n",
      " |  \n",
      " |  Return an object that produces a sequence of integers from start (inclusive)\n",
      " |  to stop (exclusive) by step.  range(i, j) produces i, i+1, i+2, ..., j-1.\n",
      " |  start defaults to 0, and stop is omitted!  range(4) produces 0, 1, 2, 3.\n",
      " |  These are exactly the valid indices for a list of 4 elements.\n",
      " |  When step is given, it specifies the increment (or decrement).\n",
      " |  \n",
      " |  Methods defined here:\n",
      " |  \n",
      " |  __bool__(self, /)\n",
      " |      self != 0\n",
      " |  \n",
      " |  __contains__(self, key, /)\n",
      " |      Return key in self.\n",
      " |  \n",
      " |  __eq__(self, value, /)\n",
      " |      Return self==value.\n",
      " |  \n",
      " |  __ge__(self, value, /)\n",
      " |      Return self>=value.\n",
      " |  \n",
      " |  __getattribute__(self, name, /)\n",
      " |      Return getattr(self, name).\n",
      " |  \n",
      " |  __getitem__(self, key, /)\n",
      " |      Return self[key].\n",
      " |  \n",
      " |  __gt__(self, value, /)\n",
      " |      Return self>value.\n",
      " |  \n",
      " |  __hash__(self, /)\n",
      " |      Return hash(self).\n",
      " |  \n",
      " |  __iter__(self, /)\n",
      " |      Implement iter(self).\n",
      " |  \n",
      " |  __le__(self, value, /)\n",
      " |      Return self<=value.\n",
      " |  \n",
      " |  __len__(self, /)\n",
      " |      Return len(self).\n",
      " |  \n",
      " |  __lt__(self, value, /)\n",
      " |      Return self<value.\n",
      " |  \n",
      " |  __ne__(self, value, /)\n",
      " |      Return self!=value.\n",
      " |  \n",
      " |  __new__(*args, **kwargs) from builtins.type\n",
      " |      Create and return a new object.  See help(type) for accurate signature.\n",
      " |  \n",
      " |  __reduce__(...)\n",
      " |      helper for pickle\n",
      " |  \n",
      " |  __repr__(self, /)\n",
      " |      Return repr(self).\n",
      " |  \n",
      " |  __reversed__(...)\n",
      " |      Return a reverse iterator.\n",
      " |  \n",
      " |  count(...)\n",
      " |      rangeobject.count(value) -> integer -- return number of occurrences of value\n",
      " |  \n",
      " |  index(...)\n",
      " |      rangeobject.index(value, [start, [stop]]) -> integer -- return index of value.\n",
      " |      Raise ValueError if the value is not present.\n",
      " |  \n",
      " |  ----------------------------------------------------------------------\n",
      " |  Data descriptors defined here:\n",
      " |  \n",
      " |  start\n",
      " |  \n",
      " |  step\n",
      " |  \n",
      " |  stop\n",
      "\n"
     ]
    }
   ],
   "source": [
    "help(range)"
   ]
  },
  {
   "cell_type": "markdown",
   "metadata": {},
   "source": [
    "Often, the information provided can be quite extensive and you might\n",
    "find it useful to clear the IPython window with the `clear` command so\n",
    "you can easily scroll back to find the beginning of the documentation.\n",
    "You may have also noticed that when you type the name of a function plus\n",
    "the opening parenthesis, IPython displays a window showing the first\n",
    "dozen lines or so of the documentation on that function."
   ]
  },
  {
   "cell_type": "markdown",
   "metadata": {},
   "source": [
    "Programming is a detail-oriented activity\n",
    "-----------------------------------------\n",
    "\n",
    "Now that you have a little experience with Python and computer\n",
    "programming, it's time for an important reminder: *Programming is a\n",
    "detail-oriented activity*. To be good at computer programming, to avoid\n",
    "frustration when programming, you must pay attention to details. A\n",
    "misplaced or forgotten comma or colon can keep your code from working.\n",
    "Note that I did not say it can \"keep your code from working *well*\"; it\n",
    "can keep your code from working at all! Worse still, little errors can\n",
    "make your code give erroneous answers, where your code appears to work,\n",
    "but in fact does not! So pay attention to the details!\n",
    "\n",
    "This raises a second point: sometimes your code will run but give the\n",
    "wrong answer because of a programming error or because of a more subtle\n",
    "error in your algorithm. For this reason, it is important to test your\n",
    "code to make sure it is behaving properly. Test it to make sure it gives\n",
    "the correct answers for cases where you already know the correct answer\n",
    "or where you have some independent means of checking it. Test it in\n",
    "limiting cases, that is, for cases that are at the extremes of the sets\n",
    "of parameters you will employ. Always test your code; this is a cardinal\n",
    "rule of programming."
   ]
  },
  {
   "cell_type": "markdown",
   "metadata": {},
   "source": [
    "Exercises\n",
    "---------\n",
    "\n",
    "1.  A ball is thrown vertically up in the air from a height $h_0$ above\n",
    "    the ground at an initial velocity $v_0$. Its subsequent height $h$\n",
    "    and velocity $v$ are given by the equations\n",
    "    \n",
    "> $\\begin{aligned}\n",
    "    h &= h_0 + v_0t - \\tfrac{1}{2}gt^2 \\\\\n",
    "    v &= v_0 - gt\n",
    "\\end{aligned}$\n",
    "\n",
    "where $g = 9.8$ is the acceleration due to gravity in $\\mathrm{m/s^2}$. Write a script that finds the height $h$ and velocity $v$ at a time $t$ after the ball is thrown. Start the script by setting $h_0 = 1.2$ (meters) and $v_0 = 5.4$ (m/s) and have your script print out the values of height and velocity (see `printNote`). Then use the script to find the height and velocity after 0.5 seconds. Then modify your script to find them after 2.0 seconds."
   ]
  },
  {
   "cell_type": "markdown",
   "metadata": {},
   "source": [
    "2.  Write a script that defines the variables $V_0 = 10$, $a = 2.5$, and\n",
    "    $z = 4\\tfrac{1}{3}$, and then evaluates the expression\n",
    "    \n",
    "> $V = V_0 \\left( 1 - \\frac{z}{\\sqrt{a^2+z^2}} \\right) \\;.$\n",
    "\n",
    "Then find $V$ for $z=8\\frac{2}{3}$ and print it out (see `printNote`). Then find $V$ for $z=13$ by changing the value of $z$ in your script."
   ]
  },
  {
   "cell_type": "markdown",
   "metadata": {},
   "source": [
    "3.  Write a single Python script that calculates the following\n",
    "    expressions:\n",
    "    \n",
    "> $\\begin{aligned}\n",
    "    \\text{1. } \\displaystyle a &= \\frac{2 + e^{2.8}}{\\sqrt{13}-2} \\\\\n",
    "    \\text{2. } \\displaystyle b &= \\frac{1-(1+\\ln 2)^{-3.5}}{1+\\sqrt{5}} \\\\\n",
    "    \\text{3. } \\displaystyle c &= \\sin\\left( \\frac{2-\\sqrt{2}}{2+\\sqrt{2}} \\right)\n",
    "\\end{aligned}$\n",
    "\n",
    " After running your script in the IPython shell, typing `a`, `b`, or `c` at the IPython prompt should yield the value of the expressions in (a), (b), or (c), respectively."
   ]
  },
  {
   "cell_type": "markdown",
   "metadata": {},
   "source": [
    "4.  A quadratic equation with the general form\n",
    "\n",
    "> $ax^2+bx+c=0$\n",
    "\n",
    "has two solutions given by the quadratic formula\n",
    "\n",
    "> $x = \\frac{-b \\pm \\sqrt{b^2-4ac}}{2a} \\;.$\n",
    "\n",
    "4.1.  Given $a$, $b$, and $c$ as inputs, write a script that gives the numerical values of the two solutions. Write the constants $a$, $b$, and $c$ as floats, and show that your script gives the correct solutions for a few test cases when the solutions are real numbers, that is, when the discriminant $b^2-4ac \\ge 0$. Use the `print` function in your script, discussed at the end of Section 2.8.1 `chap2:ScriptExmp1`, to print out your two solutions.\n",
    "\n",
    "4.2. Written this way, however, your script gives an error message when the solutions are complex. For example, see what happens when $a=1$, $b=2$, and $c=3$. You can fix this using statements in your script like `a = a+0j` after setting `a` to some float value. Thus, you can make the script work for any set of real inputs for $a$, $b$, and $c$. Again, use the `print` function to print out your two solutions."
   ]
  }
 ],
 "metadata": {
  "jupytext": {
   "cell_metadata_filter": "all",
   "notebook_metadata_filter": "all,-language_info"
  },
  "kernelspec": {
   "display_name": "Python 3",
   "language": "python",
   "name": "python3"
  },
  "language_info": {
   "codemirror_mode": {
    "name": "ipython",
    "version": 3
   },
   "file_extension": ".py",
   "mimetype": "text/x-python",
   "name": "python",
   "nbconvert_exporter": "python",
   "pygments_lexer": "ipython3",
   "version": "3.6.10"
  },
  "toc": {
   "base_numbering": 1,
   "nav_menu": {},
   "number_sections": true,
   "sideBar": true,
   "skip_h1_title": false,
   "title_cell": "Table of Contents",
   "title_sidebar": "Contents",
   "toc_cell": true,
   "toc_position": {},
   "toc_section_display": true,
   "toc_window_display": true
  }
 },
 "nbformat": 4,
 "nbformat_minor": 5
}
